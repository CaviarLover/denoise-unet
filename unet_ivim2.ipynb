{
 "cells": [
  {
   "cell_type": "code",
   "execution_count": 1,
   "id": "030d0e2a",
   "metadata": {},
   "outputs": [],
   "source": [
    "from torch import nn, optim\n",
    "from torch.utils.data import DataLoader, random_split\n",
    "from utils import load_data, post_processing, patientDataset, init_weights\n",
    "from model.unet_model import UNet\n",
    "from model.unet_2decoder import UNet_2Decoders\n",
    "from tqdm import tqdm\n",
    "from sklearn.model_selection import train_test_split\n",
    "from utils import load_data, post_processing, patientDataset, init_weights\n",
    "import numpy as np\n",
    "import torch\n",
    "import scipy\n",
    "import matplotlib.pyplot as plt"
   ]
  },
  {
   "cell_type": "code",
   "execution_count": 2,
   "id": "86b99142",
   "metadata": {},
   "outputs": [],
   "source": [
    "# define ivim function\n",
    "def ivim(b, Dp, Dt, Fp):\n",
    "    return Fp*np.exp(-b*Dp*1e-3) + (1-Fp)*np.exp(-b*Dt*1e-3)"
   ]
  },
  {
   "cell_type": "code",
   "execution_count": 3,
   "id": "a75fb6d9",
   "metadata": {},
   "outputs": [],
   "source": [
    "# define racian bias\n",
    "def ric_exp(nu, sigma):\n",
    "    \"\"\"\n",
    "    t: SNR\n",
    "    \"\"\"\n",
    "    t = nu / sigma\n",
    "    res = sigma * (np.sqrt(np.pi/8)*\n",
    "                ((2+t**2)*scipy.special.i0e(t**2/4)+\n",
    "                t**2*scipy.special.i1e(t**2/4)))\n",
    "    return res"
   ]
  },
  {
   "cell_type": "code",
   "execution_count": 4,
   "id": "6fde38ce",
   "metadata": {},
   "outputs": [
    {
     "data": {
      "text/plain": [
       "array([   0.,  150.,  300.,  450.,  600.,  750.,  900., 1050., 1200.,\n",
       "       1350., 1500., 1650., 1800., 1950., 2100., 2250., 2400., 2550.,\n",
       "       2700., 2850., 3000.])"
      ]
     },
     "execution_count": 4,
     "metadata": {},
     "output_type": "execute_result"
    }
   ],
   "source": [
    "b_values = np.linspace(0, 3000, 21)\n",
    "b_values"
   ]
  },
  {
   "cell_type": "code",
   "execution_count": 5,
   "id": "2f7d1f80",
   "metadata": {},
   "outputs": [],
   "source": [
    "SNR_high,SNR_low=40,5\n",
    "sigma_high,sigma_low=1/SNR_high,1/SNR_low"
   ]
  },
  {
   "cell_type": "code",
   "execution_count": 6,
   "id": "2cd3373c",
   "metadata": {
    "scrolled": false
   },
   "outputs": [],
   "source": [
    "def get_dwi(b_values):\n",
    "    # define parameter values in the three regions\n",
    "    S0_region0, S0_region1, S0_region2 = 1500, 1400, 1600\n",
    "    \n",
    "    d1 = [np.random.uniform(2, 2.2), 2.2, np.random.uniform(2.2, 2.4)]\n",
    "    d2 = [np.random.uniform(0.1, 0.3), 0.3, np.random.uniform(0.3, 0.5)]\n",
    "    f = [np.random.uniform(0.5, 0.7), 0.7, np.random.uniform(0.7, 0.9)]\n",
    "    d1.sort(), d2.sort(reverse=True), f.sort()\n",
    "    #print(d1, d2, f)\n",
    "\n",
    "    Dp_region0, Dp_region1, Dp_region2 = d1\n",
    "    Dt_region0, Dt_region1, Dt_region2 = d2\n",
    "    Fp_region0, Fp_region1, Fp_region2 = f\n",
    "    # image size\n",
    "    sx, sy, sb = 100, 100, len(b_values)\n",
    "    # create image\n",
    "    dwi_image = np.zeros((sx, sy, sb))\n",
    "    Dp_truth = np.zeros((sx, sy))\n",
    "    Dt_truth = np.zeros((sx, sy))\n",
    "    Fp_truth = np.zeros((sx, sy))\n",
    "\n",
    "    # fill image with simulated values\n",
    "    for i in range(sx):\n",
    "        for j in range(sy):\n",
    "            if (40 < i < 60) and (40 < j < 60):\n",
    "                # region 0\n",
    "                dwi_image[i, j, :] = S0_region0*ivim(b_values, Dp_region0, Dt_region0, Fp_region0)\n",
    "                Dp_truth[i, j], Dt_truth[i, j], Fp_truth[i, j] = Dp_region0, Dt_region0, Fp_region0\n",
    "            elif (20 < i < 80) and (20 < j < 80):\n",
    "                # region 1\n",
    "                dwi_image[i, j, :] = S0_region1*ivim(b_values, Dp_region1, Dt_region1, Fp_region1)\n",
    "                Dp_truth[i, j], Dt_truth[i, j], Fp_truth[i, j] = Dp_region1, Dt_region1, Fp_region1\n",
    "            else:\n",
    "                # region 2\n",
    "                dwi_image[i, j, :] = S0_region2*ivim(b_values, Dp_region2, Dt_region2, Fp_region2)\n",
    "                Dp_truth[i, j], Dt_truth[i, j], Fp_truth[i, j] = Dp_region2, Dt_region2, Fp_region2\n",
    "    # add rician noise\n",
    "    sigma = np.random.uniform(sigma_low, sigma_high, (sx, sy, 1))\n",
    "    dwi_image = ric_exp(dwi_image, sigma)\n",
    "    \n",
    "    return dwi_image"
   ]
  },
  {
   "cell_type": "code",
   "execution_count": 7,
   "id": "d5c542d7",
   "metadata": {},
   "outputs": [],
   "source": [
    "def plot_dwi(dwi_image):\n",
    "    # plot simulated diffusion weighted image\n",
    "    fig, ax = plt.subplots(3, 7, figsize=(20,20))\n",
    "    b_id = 0\n",
    "    for i in range(3):\n",
    "        for j in range(7):\n",
    "            ax[i, j].imshow(dwi_image[:, :, b_id], cmap='gray', clim=(0, 1600))\n",
    "            ax[i, j].set_title('b = ' + str(b_values[b_id]))\n",
    "            ax[i, j].set_xticks([])\n",
    "            ax[i, j].set_yticks([])\n",
    "            b_id += 1\n",
    "    plt.subplots_adjust(hspace=-0.6)\n",
    "    plt.show()"
   ]
  },
  {
   "cell_type": "code",
   "execution_count": 8,
   "id": "f51ff9c4",
   "metadata": {},
   "outputs": [
    {
     "data": {
      "image/png": "[encoded data removed]",
      "text/plain": [
       "<Figure size 1440x1440 with 21 Axes>"
      ]
     },
     "metadata": {},
     "output_type": "display_data"
    }
   ],
   "source": [
    "dwi_ = get_dwi(b_values)\n",
    "plot_dwi(dwi_)"
   ]
  },
  {
   "cell_type": "code",
   "execution_count": 9,
   "id": "aae614e5",
   "metadata": {},
   "outputs": [
    {
     "data": {
      "text/plain": [
       "171.58766355174586"
      ]
     },
     "execution_count": 9,
     "metadata": {},
     "output_type": "execute_result"
    }
   ],
   "source": [
    "np.expand_dims(dwi_, axis=0).min()"
   ]
  },
  {
   "cell_type": "code",
   "execution_count": null,
   "id": "00cfbd80",
   "metadata": {},
   "outputs": [],
   "source": []
  }
 ],
 "metadata": {
  "kernelspec": {
   "display_name": "Python 3.9.12 ('base')",
   "language": "python",
   "name": "python3"
  },
  "language_info": {
   "codemirror_mode": {
    "name": "ipython",
    "version": 3
   },
   "file_extension": ".py",
   "mimetype": "text/x-python",
   "name": "python",
   "nbconvert_exporter": "python",
   "pygments_lexer": "ipython3",
   "version": "3.9.12"
  },
  "vscode": {
   "interpreter": {
    "hash": "ac22007a87bcb3acafff30368e8cc99da3cbc3f1066379cf938077bf2c575573"
   }
  }
 },
 "nbformat": 4,
 "nbformat_minor": 5
}
